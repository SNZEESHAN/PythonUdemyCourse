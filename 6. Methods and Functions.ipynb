{
 "cells": [
  {
   "cell_type": "markdown",
   "id": "2b9186c3",
   "metadata": {},
   "source": [
    "# Section 6: Methods and Functions"
   ]
  },
  {
   "cell_type": "markdown",
   "id": "1639a0a7",
   "metadata": {},
   "source": [
    "# 6.1 Methods and Python Documentation"
   ]
  },
  {
   "cell_type": "code",
   "execution_count": 1,
   "id": "4b07deb3",
   "metadata": {},
   "outputs": [],
   "source": [
    "mylist = [1,2,3,4,5]"
   ]
  },
  {
   "cell_type": "code",
   "execution_count": 2,
   "id": "5cef6b71",
   "metadata": {},
   "outputs": [
    {
     "name": "stdout",
     "output_type": "stream",
     "text": [
      "Help on built-in function insert:\n",
      "\n",
      "insert(index, object, /) method of builtins.list instance\n",
      "    Insert object before index.\n",
      "\n"
     ]
    }
   ],
   "source": [
    "help(mylist.insert)    # Help() is a built - in function that returns the doc string. "
   ]
  },
  {
   "cell_type": "markdown",
   "id": "74f8119d",
   "metadata": {},
   "source": [
    "# 6.2 Introduction to Functions"
   ]
  },
  {
   "cell_type": "markdown",
   "id": "1fce5434",
   "metadata": {},
   "source": [
    "* Creating a clean and repeatable code is the key part of becoming an effective programmer. \n",
    "* Functions allow us to create blocks of code  that can be easily executed many times, without needing to rewrite the code. "
   ]
  },
  {
   "cell_type": "markdown",
   "id": "a1f72c14",
   "metadata": {},
   "source": [
    "# 6.3 def keyword\n",
    "\n",
    "* Creating a function requires a very specific syntax, including the \"def\" keyword, correct indentation, and proper structure. \n",
    "* Let's get an overview of a Python function structure. \n",
    "\n",
    "                      def name_of_function():\n",
    "                          '''\n",
    "                          Docstring explains function. \n",
    "                          '''\n",
    "                          print(\"Hello\")\n",
    "                          \n",
    "                          \n",
    "* Complicated Version of Function \n",
    "                \n",
    "                      def name_of_function(name):\n",
    "                          '''\n",
    "                          Docstring explains function. \n",
    "                          '''\n",
    "                          print(\"Hello\" + name)\n",
    "                          \n",
    "* Return Keyword\n",
    "Return keyword is used to send back the result to the function, instead of just printing it out. This keywords also allows us to assign the output of the function to a new variable.\n",
    "\n",
    "                      def add_function(num1,num2)               #Return allows you to save the result to a variable. \n",
    "                          return num1+num2\n",
    "                          \n",
    "              >> result = add_function(1,2)\n",
    "              >> \n",
    "              >> print(result)\n",
    "              >> 3\n",
    "\n",
    "\n",
    "                        "
   ]
  },
  {
   "cell_type": "markdown",
   "id": "362ce1f5",
   "metadata": {},
   "source": [
    "# 6.4 Basics of Python Functions\n",
    "\n"
   ]
  },
  {
   "cell_type": "code",
   "execution_count": 6,
   "id": "a89fc494",
   "metadata": {},
   "outputs": [],
   "source": [
    "def say_hello():\n",
    "    print(\"hello,\")\n",
    "    print(\"how are you today?\")\n",
    "    print(\"How was your day?\")"
   ]
  },
  {
   "cell_type": "code",
   "execution_count": 7,
   "id": "e8c7983c",
   "metadata": {},
   "outputs": [
    {
     "name": "stdout",
     "output_type": "stream",
     "text": [
      "hello,\n",
      "how are you today?\n",
      "How was your day?\n"
     ]
    }
   ],
   "source": [
    "say_hello()"
   ]
  },
  {
   "cell_type": "code",
   "execution_count": 9,
   "id": "1c9686ee",
   "metadata": {},
   "outputs": [
    {
     "data": {
      "text/plain": [
       "<function __main__.say_hello()>"
      ]
     },
     "execution_count": 9,
     "metadata": {},
     "output_type": "execute_result"
    }
   ],
   "source": [
    "# If we do this without paranthesis, the following output is given. When calling functions, we have to add on '()'. \n",
    "\n",
    "say_hello"
   ]
  },
  {
   "cell_type": "code",
   "execution_count": 10,
   "id": "96e72d35",
   "metadata": {},
   "outputs": [],
   "source": [
    "# Let's put input parameters and input arguments in our function. \n",
    "\n",
    "def say_hello(name):\n",
    "    print(f'Hello {name}')"
   ]
  },
  {
   "cell_type": "code",
   "execution_count": 12,
   "id": "3e26fddf",
   "metadata": {},
   "outputs": [
    {
     "name": "stdout",
     "output_type": "stream",
     "text": [
      "Hello Jose\n",
      "Hello Zeeshan\n"
     ]
    }
   ],
   "source": [
    "say_hello('Jose')\n",
    "say_hello('Zeeshan')"
   ]
  },
  {
   "cell_type": "code",
   "execution_count": 14,
   "id": "3d954863",
   "metadata": {},
   "outputs": [
    {
     "ename": "TypeError",
     "evalue": "say_hello() missing 1 required positional argument: 'name'",
     "output_type": "error",
     "traceback": [
      "\u001b[1;31m---------------------------------------------------------------------------\u001b[0m",
      "\u001b[1;31mTypeError\u001b[0m                                 Traceback (most recent call last)",
      "\u001b[1;32m<ipython-input-14-16ff92cf7e7c>\u001b[0m in \u001b[0;36m<module>\u001b[1;34m\u001b[0m\n\u001b[0;32m      2\u001b[0m \u001b[1;31m# about the missing data in the bracket. For example,\u001b[0m\u001b[1;33m\u001b[0m\u001b[1;33m\u001b[0m\u001b[1;33m\u001b[0m\u001b[0m\n\u001b[0;32m      3\u001b[0m \u001b[1;33m\u001b[0m\u001b[0m\n\u001b[1;32m----> 4\u001b[1;33m \u001b[0msay_hello\u001b[0m\u001b[1;33m(\u001b[0m\u001b[1;33m)\u001b[0m\u001b[1;33m\u001b[0m\u001b[1;33m\u001b[0m\u001b[0m\n\u001b[0m",
      "\u001b[1;31mTypeError\u001b[0m: say_hello() missing 1 required positional argument: 'name'"
     ]
    }
   ],
   "source": [
    "# In this format of python, if there is no string or any sort of input in the paranthesis. The python complaints /n\n",
    "# about the missing data in the bracket. For example, \n",
    "\n",
    "say_hello()\n"
   ]
  },
  {
   "cell_type": "code",
   "execution_count": 23,
   "id": "6b96424c",
   "metadata": {},
   "outputs": [
    {
     "name": "stdout",
     "output_type": "stream",
     "text": [
      "Hello Default\n",
      "Hello Zeeshan, how are you today?\n"
     ]
    }
   ],
   "source": [
    "# Let's rewrite the code, here, if we want to avoid the error we need to enter a default value. For Example\n",
    "\n",
    "def say_hello(name = 'Default'):\n",
    "    print(f'Hello {name}')\n",
    "    \n",
    "say_hello()\n",
    "say_hello('Zeeshan, how are you today?')"
   ]
  },
  {
   "cell_type": "code",
   "execution_count": 24,
   "id": "6485db82",
   "metadata": {},
   "outputs": [],
   "source": [
    "def print_result(a,b):\n",
    "    print(a+b)"
   ]
  },
  {
   "cell_type": "code",
   "execution_count": 31,
   "id": "3749b4ce",
   "metadata": {},
   "outputs": [],
   "source": [
    "def return_result(a,b):\n",
    "    return a+b"
   ]
  },
  {
   "cell_type": "code",
   "execution_count": 27,
   "id": "cbbd1767",
   "metadata": {},
   "outputs": [
    {
     "name": "stdout",
     "output_type": "stream",
     "text": [
      "70\n"
     ]
    }
   ],
   "source": [
    "result = print_result(10,60)"
   ]
  },
  {
   "cell_type": "code",
   "execution_count": 28,
   "id": "85f53d81",
   "metadata": {},
   "outputs": [],
   "source": [
    "result"
   ]
  },
  {
   "cell_type": "code",
   "execution_count": 29,
   "id": "7b7f4bc3",
   "metadata": {},
   "outputs": [],
   "source": [
    "# After returning the \"result\", we didn't get any putput as it only print the result in this function. "
   ]
  },
  {
   "cell_type": "code",
   "execution_count": 36,
   "id": "ee3aa9c6",
   "metadata": {},
   "outputs": [],
   "source": [
    "# If we do it in return, we can return the variable value.\n",
    "\n",
    "result = return_result(10,60)"
   ]
  },
  {
   "cell_type": "code",
   "execution_count": 37,
   "id": "bb06930d",
   "metadata": {},
   "outputs": [
    {
     "data": {
      "text/plain": [
       "70"
      ]
     },
     "execution_count": 37,
     "metadata": {},
     "output_type": "execute_result"
    }
   ],
   "source": [
    "result"
   ]
  },
  {
   "cell_type": "code",
   "execution_count": 42,
   "id": "3f011ee7",
   "metadata": {},
   "outputs": [],
   "source": [
    " # In this code, we are using print statement and return statement together in the function.\n",
    " # With this approach (which is uncommon), we often return and print the result. This is a debugging approach. \n",
    "\n",
    "def myfunc(a,b):\n",
    "    print(a+b)\n",
    "    return a+b"
   ]
  },
  {
   "cell_type": "code",
   "execution_count": 43,
   "id": "195ec493",
   "metadata": {},
   "outputs": [
    {
     "name": "stdout",
     "output_type": "stream",
     "text": [
      "85\n"
     ]
    },
    {
     "data": {
      "text/plain": [
       "85"
      ]
     },
     "execution_count": 43,
     "metadata": {},
     "output_type": "execute_result"
    }
   ],
   "source": [
    "myfunc(15,70)"
   ]
  },
  {
   "cell_type": "code",
   "execution_count": 44,
   "id": "813e8f62",
   "metadata": {},
   "outputs": [
    {
     "name": "stdout",
     "output_type": "stream",
     "text": [
      "95\n"
     ]
    }
   ],
   "source": [
    "myfunc_result = myfunc(10, 85)"
   ]
  },
  {
   "cell_type": "code",
   "execution_count": 45,
   "id": "b7a8f88e",
   "metadata": {},
   "outputs": [
    {
     "data": {
      "text/plain": [
       "95"
      ]
     },
     "execution_count": 45,
     "metadata": {},
     "output_type": "execute_result"
    }
   ],
   "source": [
    "myfunc_result"
   ]
  },
  {
   "cell_type": "code",
   "execution_count": 46,
   "id": "e54e2f1c",
   "metadata": {},
   "outputs": [],
   "source": [
    "def sum_numbers(num1,num2):\n",
    "    return num1+num2"
   ]
  },
  {
   "cell_type": "code",
   "execution_count": 47,
   "id": "0ebbbcc9",
   "metadata": {},
   "outputs": [
    {
     "data": {
      "text/plain": [
       "88"
      ]
     },
     "execution_count": 47,
     "metadata": {},
     "output_type": "execute_result"
    }
   ],
   "source": [
    "sum_numbers(25,63) # the \"+\" symbol acts as an addition operation for the integers in this case. "
   ]
  },
  {
   "cell_type": "code",
   "execution_count": 48,
   "id": "37c2c63f",
   "metadata": {},
   "outputs": [
    {
     "data": {
      "text/plain": [
       "'1063'"
      ]
     },
     "execution_count": 48,
     "metadata": {},
     "output_type": "execute_result"
    }
   ],
   "source": [
    "sum_numbers('10', '63') # the '+' symbol acts as a concatenation between the two strings. In this case. "
   ]
  },
  {
   "cell_type": "markdown",
   "id": "61e1bce6",
   "metadata": {},
   "source": [
    "# 6.5 Logic with Python Functions"
   ]
  },
  {
   "cell_type": "code",
   "execution_count": 49,
   "id": "9f65765e",
   "metadata": {},
   "outputs": [
    {
     "data": {
      "text/plain": [
       "1"
      ]
     },
     "execution_count": 49,
     "metadata": {},
     "output_type": "execute_result"
    }
   ],
   "source": [
    "# Just a reminder Note : The percentile symbol (%) is also called as mod, it returns remainder of the division operation. \n",
    "\n",
    "41 % 40"
   ]
  },
  {
   "cell_type": "code",
   "execution_count": 53,
   "id": "c4952e66",
   "metadata": {},
   "outputs": [],
   "source": [
    "# Creating a function that checks or confirms whether the number is odd or not. Like a boolean function. \n",
    "\n",
    "def odd_check(number):\n",
    "    return number % 2 == 1"
   ]
  },
  {
   "cell_type": "code",
   "execution_count": 54,
   "id": "d15c4c56",
   "metadata": {},
   "outputs": [
    {
     "data": {
      "text/plain": [
       "True"
      ]
     },
     "execution_count": 54,
     "metadata": {},
     "output_type": "execute_result"
    }
   ],
   "source": [
    "odd_check(25)"
   ]
  },
  {
   "cell_type": "code",
   "execution_count": 55,
   "id": "c1451b8d",
   "metadata": {},
   "outputs": [
    {
     "data": {
      "text/plain": [
       "False"
      ]
     },
     "execution_count": 55,
     "metadata": {},
     "output_type": "execute_result"
    }
   ],
   "source": [
    "odd_check(66)"
   ]
  },
  {
   "cell_type": "code",
   "execution_count": 56,
   "id": "47c96f46",
   "metadata": {},
   "outputs": [],
   "source": [
    "#Creating a function that checks the divisibility of number by 5\n",
    "\n",
    "def divisibility_check_for_5(number):\n",
    "    return number % 5 == 0\n"
   ]
  },
  {
   "cell_type": "code",
   "execution_count": 57,
   "id": "785cb5c5",
   "metadata": {},
   "outputs": [
    {
     "data": {
      "text/plain": [
       "False"
      ]
     },
     "execution_count": 57,
     "metadata": {},
     "output_type": "execute_result"
    }
   ],
   "source": [
    "divisibility_check_for_5(56)"
   ]
  },
  {
   "cell_type": "code",
   "execution_count": 58,
   "id": "d6ca2f1a",
   "metadata": {},
   "outputs": [
    {
     "data": {
      "text/plain": [
       "True"
      ]
     },
     "execution_count": 58,
     "metadata": {},
     "output_type": "execute_result"
    }
   ],
   "source": [
    "divisibility_check_for_5(85)"
   ]
  },
  {
   "cell_type": "code",
   "execution_count": 78,
   "id": "cc596f97",
   "metadata": {},
   "outputs": [],
   "source": [
    "# RETURN TRUE IF ANY NUMBER  IS EVEN INSIDE THE LIST\n",
    "\n",
    "def check_even_list(numlist):\n",
    "    for number in numlist:\n",
    "        if number % 2 == 0:\n",
    "            return True\n",
    "        else: \n",
    "            pass\n",
    "    return False\n",
    "            "
   ]
  },
  {
   "cell_type": "code",
   "execution_count": 79,
   "id": "edfefc7f",
   "metadata": {},
   "outputs": [
    {
     "data": {
      "text/plain": [
       "True"
      ]
     },
     "execution_count": 79,
     "metadata": {},
     "output_type": "execute_result"
    }
   ],
   "source": [
    "check_even_list([1,8,9])"
   ]
  },
  {
   "cell_type": "code",
   "execution_count": 98,
   "id": "1308f1cb",
   "metadata": {},
   "outputs": [],
   "source": [
    "# RETURN TRUE and ALL THE EVEN NUMBERS IF ANY NUMBER  IS EVEN INSIDE THE LIST\n",
    "\n",
    "def check_even_list(numlist):\n",
    "    even_numbers = []\n",
    "    \n",
    "    for number in numlist:\n",
    "        if number % 2 == 0:\n",
    "            even_numbers.append(number)\n",
    "        else: \n",
    "            pass\n",
    "    return even_numbers\n"
   ]
  },
  {
   "cell_type": "code",
   "execution_count": 99,
   "id": "651aa3a7",
   "metadata": {},
   "outputs": [
    {
     "data": {
      "text/plain": [
       "[2, 4, 6]"
      ]
     },
     "execution_count": 99,
     "metadata": {},
     "output_type": "execute_result"
    }
   ],
   "source": [
    "check_even_list([1,2,3,4,5,6])"
   ]
  },
  {
   "cell_type": "code",
   "execution_count": 100,
   "id": "0c34adcc",
   "metadata": {},
   "outputs": [
    {
     "data": {
      "text/plain": [
       "[]"
      ]
     },
     "execution_count": 100,
     "metadata": {},
     "output_type": "execute_result"
    }
   ],
   "source": [
    "check_even_list([5,7,9,11,13,15])"
   ]
  },
  {
   "cell_type": "markdown",
   "id": "7271d6ef",
   "metadata": {},
   "source": [
    ">>>> The reason for using the append function in the above code is that, it returns the list of even numbers. For example, the FOR loop first checks all the numbers in the list. When list has an even number, it appends or adds in the list that is supposed to be returned. "
   ]
  },
  {
   "cell_type": "markdown",
   "id": "1655fd38",
   "metadata": {},
   "source": [
    "# 6.6 Functions and Tuple Unpacking"
   ]
  },
  {
   "cell_type": "code",
   "execution_count": 101,
   "id": "0b2c3f89",
   "metadata": {},
   "outputs": [],
   "source": [
    "stock_prices = [('APPL', 200), ('GOOG', 400,), ('MSFT', 100)]"
   ]
  },
  {
   "cell_type": "code",
   "execution_count": 102,
   "id": "7b6083bb",
   "metadata": {},
   "outputs": [
    {
     "name": "stdout",
     "output_type": "stream",
     "text": [
      "('APPL', 200)\n",
      "('GOOG', 400)\n",
      "('MSFT', 100)\n"
     ]
    }
   ],
   "source": [
    "for item in stock_prices:\n",
    "    print(item)"
   ]
  },
  {
   "cell_type": "code",
   "execution_count": 103,
   "id": "cebefe11",
   "metadata": {},
   "outputs": [
    {
     "name": "stdout",
     "output_type": "stream",
     "text": [
      "APPL\n",
      "GOOG\n",
      "MSFT\n"
     ]
    }
   ],
   "source": [
    "for ticker, price in stock_prices:\n",
    "    print(ticker)"
   ]
  },
  {
   "cell_type": "code",
   "execution_count": 104,
   "id": "bb5df554",
   "metadata": {},
   "outputs": [
    {
     "name": "stdout",
     "output_type": "stream",
     "text": [
      "220.0\n",
      "440.0\n",
      "110.0\n"
     ]
    }
   ],
   "source": [
    "for ticker, price in stock_prices:\n",
    "    print(price + (0.1*price))"
   ]
  },
  {
   "cell_type": "markdown",
   "id": "0eb08361",
   "metadata": {},
   "source": [
    "--> In next coding cell, we are using \"Function\" to achieve unpacking of Tuple. "
   ]
  },
  {
   "cell_type": "code",
   "execution_count": 125,
   "id": "11b93ed4",
   "metadata": {},
   "outputs": [],
   "source": [
    "work_hours = [('Abby', 150), ('Erica', 2000), ('Zeeshan', 250)]"
   ]
  },
  {
   "cell_type": "code",
   "execution_count": 128,
   "id": "15b0f73f",
   "metadata": {},
   "outputs": [],
   "source": [
    "def employee_check(work_hours):\n",
    "    \n",
    "    current_max = 0\n",
    "    employee_of_the_month = ''\n",
    "    \n",
    "    for employee, hours in work_hours:\n",
    "        if hours > current_max:\n",
    "            current_max = hours\n",
    "            employee_of_the_month = employee\n",
    "        else:\n",
    "            pass \n",
    "    \n",
    "    return (employee_of_the_month, current_max)"
   ]
  },
  {
   "cell_type": "code",
   "execution_count": 129,
   "id": "954cf5d6",
   "metadata": {},
   "outputs": [
    {
     "data": {
      "text/plain": [
       "('Erica', 2000)"
      ]
     },
     "execution_count": 129,
     "metadata": {},
     "output_type": "execute_result"
    }
   ],
   "source": [
    "employee_check(work_hours)"
   ]
  },
  {
   "cell_type": "code",
   "execution_count": 130,
   "id": "7a5c4a22",
   "metadata": {},
   "outputs": [],
   "source": [
    "# To unpack \n",
    "\n",
    "name, hours = employee_check(work_hours)"
   ]
  },
  {
   "cell_type": "code",
   "execution_count": 131,
   "id": "4334920b",
   "metadata": {},
   "outputs": [
    {
     "data": {
      "text/plain": [
       "'Erica'"
      ]
     },
     "execution_count": 131,
     "metadata": {},
     "output_type": "execute_result"
    }
   ],
   "source": [
    "name"
   ]
  },
  {
   "cell_type": "code",
   "execution_count": 132,
   "id": "38153f34",
   "metadata": {},
   "outputs": [
    {
     "data": {
      "text/plain": [
       "2000"
      ]
     },
     "execution_count": 132,
     "metadata": {},
     "output_type": "execute_result"
    }
   ],
   "source": [
    "hours"
   ]
  },
  {
   "cell_type": "code",
   "execution_count": 133,
   "id": "e0768e15",
   "metadata": {},
   "outputs": [
    {
     "data": {
      "text/plain": [
       "('Erica', 2000)"
      ]
     },
     "execution_count": 133,
     "metadata": {},
     "output_type": "execute_result"
    }
   ],
   "source": [
    "name,hours"
   ]
  },
  {
   "cell_type": "markdown",
   "id": "1bf99f4a",
   "metadata": {},
   "source": [
    "# 6.7 Interactions between Python Function\n",
    "\n",
    "* A python script or notebook  contains several functions interacting with each other. \n",
    "* In the following script, we are creating few functions that mimic carnival game, \"Three Cup Monte\""
   ]
  },
  {
   "cell_type": "markdown",
   "id": "856a35aa",
   "metadata": {},
   "source": [
    "Contd.  Next Notebook named 6.7 Interactions between Python Function"
   ]
  },
  {
   "cell_type": "code",
   "execution_count": null,
   "id": "ddea02c4",
   "metadata": {},
   "outputs": [],
   "source": []
  }
 ],
 "metadata": {
  "kernelspec": {
   "display_name": "Python 3",
   "language": "python",
   "name": "python3"
  },
  "language_info": {
   "codemirror_mode": {
    "name": "ipython",
    "version": 3
   },
   "file_extension": ".py",
   "mimetype": "text/x-python",
   "name": "python",
   "nbconvert_exporter": "python",
   "pygments_lexer": "ipython3",
   "version": "3.8.8"
  }
 },
 "nbformat": 4,
 "nbformat_minor": 5
}
