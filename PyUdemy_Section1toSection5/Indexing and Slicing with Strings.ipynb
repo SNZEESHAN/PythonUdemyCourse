{
 "cells": [
  {
   "cell_type": "code",
   "execution_count": 3,
   "id": "aabb9593",
   "metadata": {},
   "outputs": [],
   "source": [
    "my_string = \"Hello World\""
   ]
  },
  {
   "cell_type": "code",
   "execution_count": 4,
   "id": "f3a19ee0",
   "metadata": {},
   "outputs": [
    {
     "data": {
      "text/plain": [
       "'Hello World'"
      ]
     },
     "execution_count": 4,
     "metadata": {},
     "output_type": "execute_result"
    }
   ],
   "source": [
    "my_string"
   ]
  },
  {
   "cell_type": "code",
   "execution_count": 5,
   "id": "3bb2a01b",
   "metadata": {},
   "outputs": [
    {
     "data": {
      "text/plain": [
       "' '"
      ]
     },
     "execution_count": 5,
     "metadata": {},
     "output_type": "execute_result"
    }
   ],
   "source": [
    "my_string[5]"
   ]
  },
  {
   "cell_type": "code",
   "execution_count": 6,
   "id": "ec5aa051",
   "metadata": {},
   "outputs": [
    {
     "data": {
      "text/plain": [
       "'o'"
      ]
     },
     "execution_count": 6,
     "metadata": {},
     "output_type": "execute_result"
    }
   ],
   "source": [
    "my_string[4]"
   ]
  },
  {
   "cell_type": "code",
   "execution_count": 7,
   "id": "9f2edd64",
   "metadata": {},
   "outputs": [
    {
     "data": {
      "text/plain": [
       "'l'"
      ]
     },
     "execution_count": 7,
     "metadata": {},
     "output_type": "execute_result"
    }
   ],
   "source": [
    "my_string[-2]"
   ]
  },
  {
   "cell_type": "code",
   "execution_count": 8,
   "id": "d15edb22",
   "metadata": {},
   "outputs": [],
   "source": [
    "#sLicing. Reassigning variable \"my_string\"\n",
    "\n",
    "my_string = \"Discombobulate\""
   ]
  },
  {
   "cell_type": "code",
   "execution_count": 9,
   "id": "ed3652a0",
   "metadata": {},
   "outputs": [
    {
     "data": {
      "text/plain": [
       "'Discombobulate'"
      ]
     },
     "execution_count": 9,
     "metadata": {},
     "output_type": "execute_result"
    }
   ],
   "source": [
    "my_string"
   ]
  },
  {
   "cell_type": "code",
   "execution_count": 13,
   "id": "cc5a294a",
   "metadata": {},
   "outputs": [
    {
     "data": {
      "text/plain": [
       "'combobulate'"
      ]
     },
     "execution_count": 13,
     "metadata": {},
     "output_type": "execute_result"
    }
   ],
   "source": [
    "my_string[3:]"
   ]
  },
  {
   "cell_type": "code",
   "execution_count": 11,
   "id": "ee35a980",
   "metadata": {},
   "outputs": [
    {
     "data": {
      "text/plain": [
       "'Dis'"
      ]
     },
     "execution_count": 11,
     "metadata": {},
     "output_type": "execute_result"
    }
   ],
   "source": [
    "my_string[:3]"
   ]
  },
  {
   "cell_type": "markdown",
   "id": "88d53a8f",
   "metadata": {},
   "source": [
    "The index number after colon (:) doesn't include the letter in that index, which means it will go upto index 3 w=but will not include it. \n",
    "\n",
    "The index number before colon(:) includes the index number."
   ]
  },
  {
   "cell_type": "code",
   "execution_count": 14,
   "id": "78ae19b4",
   "metadata": {},
   "outputs": [
    {
     "data": {
      "text/plain": [
       "'comb'"
      ]
     },
     "execution_count": 14,
     "metadata": {},
     "output_type": "execute_result"
    }
   ],
   "source": [
    "my_string[3:7]"
   ]
  },
  {
   "cell_type": "code",
   "execution_count": 17,
   "id": "d9b79963",
   "metadata": {},
   "outputs": [
    {
     "data": {
      "text/plain": [
       "'lat'"
      ]
     },
     "execution_count": 17,
     "metadata": {},
     "output_type": "execute_result"
    }
   ],
   "source": [
    "my_string[10:-1]"
   ]
  },
  {
   "cell_type": "code",
   "execution_count": 18,
   "id": "77f08aee",
   "metadata": {},
   "outputs": [
    {
     "data": {
      "text/plain": [
       "'bob'"
      ]
     },
     "execution_count": 18,
     "metadata": {},
     "output_type": "execute_result"
    }
   ],
   "source": [
    "my_string[6:-5]"
   ]
  },
  {
   "cell_type": "code",
   "execution_count": 19,
   "id": "e574c2bd",
   "metadata": {},
   "outputs": [
    {
     "data": {
      "text/plain": [
       "'Discombobulate'"
      ]
     },
     "execution_count": 19,
     "metadata": {},
     "output_type": "execute_result"
    }
   ],
   "source": [
    "my_string[::] "
   ]
  },
  {
   "cell_type": "markdown",
   "id": "bec276d7",
   "metadata": {},
   "source": [
    "Though this syntax \" my_string[::] \" is not used much as we define the string itself but in order to get the step size, we use specify the number of step size. "
   ]
  },
  {
   "cell_type": "code",
   "execution_count": 20,
   "id": "b24f9e22",
   "metadata": {},
   "outputs": [
    {
     "data": {
      "text/plain": [
       "'Dcbut'"
      ]
     },
     "execution_count": 20,
     "metadata": {},
     "output_type": "execute_result"
    }
   ],
   "source": [
    "my_string[::3] "
   ]
  },
  {
   "cell_type": "code",
   "execution_count": 23,
   "id": "349994a3",
   "metadata": {},
   "outputs": [
    {
     "data": {
      "text/plain": [
       "'smb'"
      ]
     },
     "execution_count": 23,
     "metadata": {},
     "output_type": "execute_result"
    }
   ],
   "source": [
    "my_string[2:10:3]"
   ]
  },
  {
   "cell_type": "code",
   "execution_count": 21,
   "id": "92015247",
   "metadata": {},
   "outputs": [
    {
     "data": {
      "text/plain": [
       "'etalubobmocsiD'"
      ]
     },
     "execution_count": 21,
     "metadata": {},
     "output_type": "execute_result"
    }
   ],
   "source": [
    "# In order to take the backward step \n",
    "\n",
    "my_string[::-1]"
   ]
  },
  {
   "cell_type": "code",
   "execution_count": null,
   "id": "c0a26ffc",
   "metadata": {},
   "outputs": [],
   "source": []
  }
 ],
 "metadata": {
  "kernelspec": {
   "display_name": "Python 3",
   "language": "python",
   "name": "python3"
  },
  "language_info": {
   "codemirror_mode": {
    "name": "ipython",
    "version": 3
   },
   "file_extension": ".py",
   "mimetype": "text/x-python",
   "name": "python",
   "nbconvert_exporter": "python",
   "pygments_lexer": "ipython3",
   "version": "3.9.5"
  }
 },
 "nbformat": 4,
 "nbformat_minor": 5
}
