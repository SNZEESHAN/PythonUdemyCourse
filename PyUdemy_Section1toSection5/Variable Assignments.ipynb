{
 "cells": [
  {
   "cell_type": "code",
   "execution_count": 1,
   "id": "1855dbdd",
   "metadata": {},
   "outputs": [],
   "source": [
    "a = 5 "
   ]
  },
  {
   "cell_type": "code",
   "execution_count": 2,
   "id": "aba3e505",
   "metadata": {},
   "outputs": [
    {
     "data": {
      "text/plain": [
       "5"
      ]
     },
     "execution_count": 2,
     "metadata": {},
     "output_type": "execute_result"
    }
   ],
   "source": [
    "a"
   ]
  },
  {
   "cell_type": "code",
   "execution_count": 2,
   "id": "acb44212",
   "metadata": {},
   "outputs": [],
   "source": [
    "a = 10 "
   ]
  },
  {
   "cell_type": "code",
   "execution_count": 5,
   "id": "f18fb745",
   "metadata": {},
   "outputs": [
    {
     "data": {
      "text/plain": [
       "10"
      ]
     },
     "execution_count": 5,
     "metadata": {},
     "output_type": "execute_result"
    }
   ],
   "source": [
    "a"
   ]
  },
  {
   "cell_type": "markdown",
   "id": "bbf3041f",
   "metadata": {},
   "source": [
    "From the above, we can conclude that if we reassign the variable with a new value. The previous value is not considered.\n"
   ]
  },
  {
   "cell_type": "code",
   "execution_count": 3,
   "id": "8ec7d760",
   "metadata": {},
   "outputs": [
    {
     "data": {
      "text/plain": [
       "int"
      ]
     },
     "execution_count": 3,
     "metadata": {},
     "output_type": "execute_result"
    }
   ],
   "source": [
    "type(a) # in - built feature of Python. By using this statement it gives idea about what kind of datatype it is."
   ]
  },
  {
   "cell_type": "markdown",
   "id": "52d78078",
   "metadata": {},
   "source": [
    " In other words, It validates the datatype. int = integer"
   ]
  },
  {
   "cell_type": "code",
   "execution_count": 4,
   "id": "95760bac",
   "metadata": {},
   "outputs": [],
   "source": [
    "b = 22.5"
   ]
  },
  {
   "cell_type": "code",
   "execution_count": 5,
   "id": "372f1369",
   "metadata": {},
   "outputs": [
    {
     "data": {
      "text/plain": [
       "float"
      ]
     },
     "execution_count": 5,
     "metadata": {},
     "output_type": "execute_result"
    }
   ],
   "source": [
    "type(b)"
   ]
  },
  {
   "cell_type": "code",
   "execution_count": 6,
   "id": "93c9d50e",
   "metadata": {},
   "outputs": [],
   "source": [
    "my_income = 100 \n",
    "\n",
    "tax_rate = 0.1\n",
    "\n",
    "my_taxes = my_income * tax_rate"
   ]
  },
  {
   "cell_type": "code",
   "execution_count": 7,
   "id": "3eba0374",
   "metadata": {},
   "outputs": [
    {
     "data": {
      "text/plain": [
       "10.0"
      ]
     },
     "execution_count": 7,
     "metadata": {},
     "output_type": "execute_result"
    }
   ],
   "source": [
    "my_taxes "
   ]
  },
  {
   "cell_type": "markdown",
   "id": "38085539",
   "metadata": {},
   "source": [
    "In the above cell In [6], the assigned variables such as \"my_income\" and \"tax_rate\" have gone through arithmetic operations. The operations are assigned with the variable. \n",
    "\n"
   ]
  },
  {
   "cell_type": "code",
   "execution_count": null,
   "id": "3e4494f5",
   "metadata": {},
   "outputs": [],
   "source": []
  },
  {
   "cell_type": "code",
   "execution_count": null,
   "id": "9f2adc93",
   "metadata": {},
   "outputs": [],
   "source": []
  }
 ],
 "metadata": {
  "kernelspec": {
   "display_name": "Python 3",
   "language": "python",
   "name": "python3"
  },
  "language_info": {
   "codemirror_mode": {
    "name": "ipython",
    "version": 3
   },
   "file_extension": ".py",
   "mimetype": "text/x-python",
   "name": "python",
   "nbconvert_exporter": "python",
   "pygments_lexer": "ipython3",
   "version": "3.9.5"
  }
 },
 "nbformat": 4,
 "nbformat_minor": 5
}
