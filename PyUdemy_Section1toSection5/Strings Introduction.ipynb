{
 "cells": [
  {
   "cell_type": "code",
   "execution_count": 1,
   "id": "e4b1c31f",
   "metadata": {},
   "outputs": [
    {
     "data": {
      "text/plain": [
       "'Hello'"
      ]
     },
     "execution_count": 1,
     "metadata": {},
     "output_type": "execute_result"
    }
   ],
   "source": [
    "'Hello'"
   ]
  },
  {
   "cell_type": "code",
   "execution_count": 2,
   "id": "ef1af291",
   "metadata": {},
   "outputs": [
    {
     "data": {
      "text/plain": [
       "'How are you sir ?'"
      ]
     },
     "execution_count": 2,
     "metadata": {},
     "output_type": "execute_result"
    }
   ],
   "source": [
    "\"How are you sir ?\""
   ]
  },
  {
   "cell_type": "code",
   "execution_count": 3,
   "id": "483cdac7",
   "metadata": {},
   "outputs": [
    {
     "data": {
      "text/plain": [
       "\"I really don't know what are you talking about. You're joking right ?\""
      ]
     },
     "execution_count": 3,
     "metadata": {},
     "output_type": "execute_result"
    }
   ],
   "source": [
    "\"I really don't know what are you talking about. You're joking right ?\""
   ]
  },
  {
   "cell_type": "code",
   "execution_count": 4,
   "id": "4215ce7a",
   "metadata": {},
   "outputs": [
    {
     "data": {
      "text/plain": [
       "'Main Japan Jaa Raha Hun, Mujhe mat Tokyo'"
      ]
     },
     "execution_count": 4,
     "metadata": {},
     "output_type": "execute_result"
    }
   ],
   "source": [
    "\"Main Japan Jaa Raha Hun, Mujhe mat Tokyo\""
   ]
  },
  {
   "cell_type": "code",
   "execution_count": 5,
   "id": "acdbd240",
   "metadata": {},
   "outputs": [
    {
     "name": "stdout",
     "output_type": "stream",
     "text": [
      "hello\n"
     ]
    }
   ],
   "source": [
    "print(\"hello\")"
   ]
  },
  {
   "cell_type": "code",
   "execution_count": 6,
   "id": "830784a3",
   "metadata": {},
   "outputs": [
    {
     "name": "stdout",
     "output_type": "stream",
     "text": [
      "Main Japan Jaa Raha Hun, Mujhe mat Tokyo\n"
     ]
    }
   ],
   "source": [
    "print(\"Main Japan Jaa Raha Hun, Mujhe mat Tokyo\")"
   ]
  },
  {
   "cell_type": "raw",
   "id": "e4fe135d",
   "metadata": {},
   "source": [
    "\"print()\" statement gives the proper output. In the following example, if print() statement is not added to these strings, we end up getting the output of the new string. By adding print() statement, we can return both the strings in the output. "
   ]
  },
  {
   "cell_type": "code",
   "execution_count": 7,
   "id": "ec67d5cb",
   "metadata": {},
   "outputs": [
    {
     "data": {
      "text/plain": [
       "\"I don't have enough money for chicken nuggets\""
      ]
     },
     "execution_count": 7,
     "metadata": {},
     "output_type": "execute_result"
    }
   ],
   "source": [
    "\"One does not simply walks into Mordor\"\n",
    "\"I don't have enough money for chicken nuggets\""
   ]
  },
  {
   "cell_type": "code",
   "execution_count": 9,
   "id": "a344e94e",
   "metadata": {},
   "outputs": [
    {
     "name": "stdout",
     "output_type": "stream",
     "text": [
      "One does not simply walks into Mordor.\n",
      "I don't have enough money for chicken nuggets.\n"
     ]
    }
   ],
   "source": [
    "print(\"One does not simply walks into Mordor.\")\n",
    "print(\"I don't have enough money for chicken nuggets.\")"
   ]
  },
  {
   "cell_type": "code",
   "execution_count": 11,
   "id": "c3ae785e",
   "metadata": {},
   "outputs": [
    {
     "name": "stdout",
     "output_type": "stream",
     "text": [
      "With great power \n",
      "comes great responsibility\n"
     ]
    }
   ],
   "source": [
    "# to break the line or start the new line \"\\n\"\n",
    "\n",
    "print (\"With great power \\ncomes great responsibility\")"
   ]
  },
  {
   "cell_type": "code",
   "execution_count": 12,
   "id": "c1137c94",
   "metadata": {},
   "outputs": [
    {
     "name": "stdout",
     "output_type": "stream",
     "text": [
      "With great power \tcomes great responsibility\n"
     ]
    }
   ],
   "source": [
    "# for tab seperation\n",
    "print (\"With great power \\tcomes great responsibility\")\n"
   ]
  },
  {
   "cell_type": "code",
   "execution_count": 13,
   "id": "b6df00db",
   "metadata": {},
   "outputs": [
    {
     "data": {
      "text/plain": [
       "11"
      ]
     },
     "execution_count": 13,
     "metadata": {},
     "output_type": "execute_result"
    }
   ],
   "source": [
    "# len() function. This statement gives the number of characters in the string. \n",
    "\n",
    "len(\"I am Batman\")"
   ]
  },
  {
   "cell_type": "code",
   "execution_count": 14,
   "id": "26b47f19",
   "metadata": {},
   "outputs": [
    {
     "data": {
      "text/plain": [
       "10"
      ]
     },
     "execution_count": 14,
     "metadata": {},
     "output_type": "execute_result"
    }
   ],
   "source": [
    "len(\"I'm Batman\")"
   ]
  },
  {
   "cell_type": "code",
   "execution_count": null,
   "id": "b1ea4935",
   "metadata": {},
   "outputs": [],
   "source": []
  }
 ],
 "metadata": {
  "kernelspec": {
   "display_name": "Python 3",
   "language": "python",
   "name": "python3"
  },
  "language_info": {
   "codemirror_mode": {
    "name": "ipython",
    "version": 3
   },
   "file_extension": ".py",
   "mimetype": "text/x-python",
   "name": "python",
   "nbconvert_exporter": "python",
   "pygments_lexer": "ipython3",
   "version": "3.9.5"
  }
 },
 "nbformat": 4,
 "nbformat_minor": 5
}
