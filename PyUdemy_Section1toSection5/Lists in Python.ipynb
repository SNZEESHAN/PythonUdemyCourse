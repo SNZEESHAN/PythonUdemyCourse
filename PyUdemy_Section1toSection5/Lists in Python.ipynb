{
 "cells": [
  {
   "cell_type": "code",
   "execution_count": 8,
   "id": "b8f9865d",
   "metadata": {},
   "outputs": [],
   "source": [
    "my_list = ['Zeeshan', 16, 25.25]"
   ]
  },
  {
   "cell_type": "code",
   "execution_count": 5,
   "id": "81cf0926",
   "metadata": {},
   "outputs": [
    {
     "name": "stdout",
     "output_type": "stream",
     "text": [
      "['Zeeshan', 16, 25.25]\n"
     ]
    }
   ],
   "source": [
    "print(my_list)"
   ]
  },
  {
   "cell_type": "code",
   "execution_count": 6,
   "id": "8723902f",
   "metadata": {},
   "outputs": [
    {
     "data": {
      "text/plain": [
       "3"
      ]
     },
     "execution_count": 6,
     "metadata": {},
     "output_type": "execute_result"
    }
   ],
   "source": [
    "len(my_list)"
   ]
  },
  {
   "cell_type": "code",
   "execution_count": 11,
   "id": "b442d159",
   "metadata": {},
   "outputs": [],
   "source": [
    "my_list1 = [\"one\", \"two\", \"hello honaaeeeeyyy\"]"
   ]
  },
  {
   "cell_type": "code",
   "execution_count": 16,
   "id": "5f0e5c8b",
   "metadata": {},
   "outputs": [
    {
     "data": {
      "text/plain": [
       "['one', 'two', 'hello honaaeeeeyyy']"
      ]
     },
     "execution_count": 16,
     "metadata": {},
     "output_type": "execute_result"
    }
   ],
   "source": [
    "my_list1[0:]"
   ]
  },
  {
   "cell_type": "code",
   "execution_count": 17,
   "id": "370f6dda",
   "metadata": {},
   "outputs": [
    {
     "data": {
      "text/plain": [
       "['Zeeshan', 16, 25.25, 'one', 'two', 'hello honaaeeeeyyy']"
      ]
     },
     "execution_count": 17,
     "metadata": {},
     "output_type": "execute_result"
    }
   ],
   "source": [
    "# Concatenate the List\n",
    "\n",
    "my_list + my_list1"
   ]
  },
  {
   "cell_type": "code",
   "execution_count": 18,
   "id": "622a4ed7",
   "metadata": {},
   "outputs": [
    {
     "data": {
      "text/plain": [
       "['one', 'two', 'hello honaaeeeeyyy']"
      ]
     },
     "execution_count": 18,
     "metadata": {},
     "output_type": "execute_result"
    }
   ],
   "source": [
    "my_list1"
   ]
  },
  {
   "cell_type": "code",
   "execution_count": 19,
   "id": "bdad98fe",
   "metadata": {},
   "outputs": [],
   "source": [
    "conca_list = my_list + my_list1"
   ]
  },
  {
   "cell_type": "code",
   "execution_count": 20,
   "id": "072f53cb",
   "metadata": {},
   "outputs": [
    {
     "name": "stdout",
     "output_type": "stream",
     "text": [
      "['Zeeshan', 16, 25.25, 'one', 'two', 'hello honaaeeeeyyy']\n"
     ]
    }
   ],
   "source": [
    "print(conca_list)"
   ]
  },
  {
   "cell_type": "code",
   "execution_count": 22,
   "id": "115f4e4c",
   "metadata": {},
   "outputs": [
    {
     "name": "stdout",
     "output_type": "stream",
     "text": [
      "['ZEESHAN', 16, 25.25, 'one', 'two', 'hello honaaeeeeyyy']\n"
     ]
    }
   ],
   "source": [
    "conca_list[0] = 'ZEESHAN'\n",
    "print(conca_list)"
   ]
  },
  {
   "cell_type": "code",
   "execution_count": 23,
   "id": "5e32ead0",
   "metadata": {},
   "outputs": [],
   "source": [
    "# Append the List\n",
    "\n",
    "conca_list.append('Wear Your Face Mask') "
   ]
  },
  {
   "cell_type": "code",
   "execution_count": 24,
   "id": "a29f3f51",
   "metadata": {},
   "outputs": [
    {
     "name": "stdout",
     "output_type": "stream",
     "text": [
      "['ZEESHAN', 16, 25.25, 'one', 'two', 'hello honaaeeeeyyy', 'Wear Your Face Mask']\n"
     ]
    }
   ],
   "source": [
    "print(conca_list)"
   ]
  },
  {
   "cell_type": "code",
   "execution_count": 25,
   "id": "38da8fc1",
   "metadata": {},
   "outputs": [
    {
     "data": {
      "text/plain": [
       "'Wear Your Face Mask'"
      ]
     },
     "execution_count": 25,
     "metadata": {},
     "output_type": "execute_result"
    }
   ],
   "source": [
    "#Pop method actually pops off the item from the end of the list. \n",
    "\n",
    "conca_list.pop()"
   ]
  },
  {
   "cell_type": "markdown",
   "id": "7e203db4",
   "metadata": {},
   "source": [
    "Another pop method includes removing a desired item of the list. In that case, we have to add the index number of the item."
   ]
  },
  {
   "cell_type": "code",
   "execution_count": 28,
   "id": "9b651828",
   "metadata": {},
   "outputs": [
    {
     "name": "stdout",
     "output_type": "stream",
     "text": [
      "['a', 'c', 'b', 'r', 'd', 'i', 'l']\n"
     ]
    }
   ],
   "source": [
    "new_list = ['a', 'c', 'b', 'r', 'd', 'i', 'l']\n",
    "print(new_list)"
   ]
  },
  {
   "cell_type": "code",
   "execution_count": 30,
   "id": "ab3c54fa",
   "metadata": {},
   "outputs": [
    {
     "data": {
      "text/plain": [
       "['a', 'b', 'c', 'd', 'i', 'l', 'r']"
      ]
     },
     "execution_count": 30,
     "metadata": {},
     "output_type": "execute_result"
    }
   ],
   "source": [
    "new_list.sort()\n",
    "new_list"
   ]
  },
  {
   "cell_type": "code",
   "execution_count": 31,
   "id": "d1a111d2",
   "metadata": {},
   "outputs": [
    {
     "data": {
      "text/plain": [
       "['a', 'b', 'c', 'd', 'i', 'l', 'r']"
      ]
     },
     "execution_count": 31,
     "metadata": {},
     "output_type": "execute_result"
    }
   ],
   "source": [
    "new_list"
   ]
  },
  {
   "cell_type": "code",
   "execution_count": 34,
   "id": "32d4a1b5",
   "metadata": {},
   "outputs": [
    {
     "name": "stdout",
     "output_type": "stream",
     "text": [
      "['r', 'l', 'i', 'd', 'c', 'b', 'a']\n"
     ]
    }
   ],
   "source": [
    "new_list.reverse()\n",
    "print(new_list)"
   ]
  },
  {
   "cell_type": "code",
   "execution_count": 35,
   "id": "ea97ed97",
   "metadata": {},
   "outputs": [
    {
     "data": {
      "text/plain": [
       "['r', 'l', 'i', 'd', 'c', 'b', 'a']"
      ]
     },
     "execution_count": 35,
     "metadata": {},
     "output_type": "execute_result"
    }
   ],
   "source": [
    "new_list"
   ]
  },
  {
   "cell_type": "code",
   "execution_count": null,
   "id": "22d50f5b",
   "metadata": {},
   "outputs": [],
   "source": []
  }
 ],
 "metadata": {
  "kernelspec": {
   "display_name": "Python 3",
   "language": "python",
   "name": "python3"
  },
  "language_info": {
   "codemirror_mode": {
    "name": "ipython",
    "version": 3
   },
   "file_extension": ".py",
   "mimetype": "text/x-python",
   "name": "python",
   "nbconvert_exporter": "python",
   "pygments_lexer": "ipython3",
   "version": "3.9.5"
  }
 },
 "nbformat": 4,
 "nbformat_minor": 5
}
