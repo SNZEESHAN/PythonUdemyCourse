{
 "cells": [
  {
   "cell_type": "code",
   "execution_count": 8,
   "id": "2cb7eb74",
   "metadata": {},
   "outputs": [
    {
     "name": "stdout",
     "output_type": "stream",
     "text": [
      "This is a string INSERTED\n"
     ]
    }
   ],
   "source": [
    "print(\"This is a string {}\".format('INSERTED'))"
   ]
  },
  {
   "cell_type": "code",
   "execution_count": 4,
   "id": "d8eaba44",
   "metadata": {},
   "outputs": [
    {
     "name": "stdout",
     "output_type": "stream",
     "text": [
      "What does the fox say?\n"
     ]
    }
   ],
   "source": [
    "print('What {} {} {} {}'.format('does', 'the', 'fox', 'say?'))"
   ]
  },
  {
   "cell_type": "markdown",
   "id": "ddf769a2",
   "metadata": {},
   "source": [
    "This is the good way  to format objects into your strings for print statements. \n",
    "\n",
    "'String here {} then also {}.format('something1','something2')"
   ]
  },
  {
   "cell_type": "code",
   "execution_count": 5,
   "id": "4ff3daf0",
   "metadata": {},
   "outputs": [
    {
     "name": "stdout",
     "output_type": "stream",
     "text": [
      "What does does does does\n"
     ]
    }
   ],
   "source": [
    "print('What {0} {0} {0} {0}'.format('does', 'the', 'fox', 'say?'))"
   ]
  },
  {
   "cell_type": "markdown",
   "id": "6dd1a732",
   "metadata": {},
   "source": [
    "This is the print formatting of strings based on index numbers. \n",
    "\n",
    "0 - does\n",
    "1 - the \n",
    "2 - fox\n",
    "3 - say?"
   ]
  },
  {
   "cell_type": "code",
   "execution_count": 7,
   "id": "23e8a8d2",
   "metadata": {},
   "outputs": [
    {
     "name": "stdout",
     "output_type": "stream",
     "text": [
      "What does the fox say?\n"
     ]
    }
   ],
   "source": [
    "print('What {d} {t} {f} {s}'.format(d = 'does', t = 'the', f = 'fox', s = 'say?'))"
   ]
  },
  {
   "cell_type": "markdown",
   "id": "979a706e",
   "metadata": {},
   "source": [
    "This is the print formatting of strings based assigning variables. "
   ]
  },
  {
   "cell_type": "markdown",
   "id": "33447b37",
   "metadata": {},
   "source": [
    "# Float formatting follows \"{value:width.precision f}\""
   ]
  },
  {
   "cell_type": "code",
   "execution_count": 10,
   "id": "66f73346",
   "metadata": {},
   "outputs": [],
   "source": [
    "result = 100/777"
   ]
  },
  {
   "cell_type": "code",
   "execution_count": 11,
   "id": "555098db",
   "metadata": {},
   "outputs": [
    {
     "data": {
      "text/plain": [
       "0.1287001287001287"
      ]
     },
     "execution_count": 11,
     "metadata": {},
     "output_type": "execute_result"
    }
   ],
   "source": [
    "result"
   ]
  },
  {
   "cell_type": "code",
   "execution_count": 14,
   "id": "fab8ecd6",
   "metadata": {},
   "outputs": [
    {
     "name": "stdout",
     "output_type": "stream",
     "text": [
      "The result was 0.1287001287001287\n"
     ]
    }
   ],
   "source": [
    "print(\"The result was {r}\".format(r = result))"
   ]
  },
  {
   "cell_type": "code",
   "execution_count": 15,
   "id": "fa42578d",
   "metadata": {},
   "outputs": [
    {
     "name": "stdout",
     "output_type": "stream",
     "text": [
      "The result was 0.1287001287001287\n"
     ]
    }
   ],
   "source": [
    "print(\"The result was {}\".format(result))"
   ]
  },
  {
   "cell_type": "markdown",
   "id": "7250a03d",
   "metadata": {},
   "source": [
    "In the below syntax, we are using the float format of the one mentioned above in blue colour font.\n",
    "\n",
    "value =\"r\" as we assign it\n",
    "width is space \n",
    "precision is the number of float points or decimal points we want to consider."
   ]
  },
  {
   "cell_type": "code",
   "execution_count": 18,
   "id": "cb6bc3bf",
   "metadata": {},
   "outputs": [
    {
     "name": "stdout",
     "output_type": "stream",
     "text": [
      "The result was 0.12870\n"
     ]
    }
   ],
   "source": [
    "print(\"The result was {r:1.5f}\".format(r=result))"
   ]
  },
  {
   "cell_type": "markdown",
   "id": "17cc25ff",
   "metadata": {},
   "source": [
    "This is the dot format method. "
   ]
  },
  {
   "cell_type": "markdown",
   "id": "dc30c959",
   "metadata": {},
   "source": [
    "In the new versions of Python, we got new formatting method called \"f\" string method."
   ]
  },
  {
   "cell_type": "code",
   "execution_count": 20,
   "id": "ada17c0a",
   "metadata": {},
   "outputs": [],
   "source": [
    "name = \"Tony Stark\""
   ]
  },
  {
   "cell_type": "code",
   "execution_count": 22,
   "id": "aaac0e63",
   "metadata": {},
   "outputs": [
    {
     "name": "stdout",
     "output_type": "stream",
     "text": [
      "Excuse Me, Are you Tony Stark? The Ironman?!!??\n"
     ]
    }
   ],
   "source": [
    "print(f\"Excuse Me, Are you {name}? The Ironman?!!??\")"
   ]
  },
  {
   "cell_type": "code",
   "execution_count": 26,
   "id": "ca79fa4a",
   "metadata": {},
   "outputs": [
    {
     "name": "stdout",
     "output_type": "stream",
     "text": [
      "7.728813559322034\n"
     ]
    }
   ],
   "source": [
    "# Float formatting using f string method\n",
    "\n",
    "answer = 456/59\n",
    "print(answer)\n",
    "ans=answer"
   ]
  },
  {
   "cell_type": "code",
   "execution_count": 30,
   "id": "36a99db7",
   "metadata": {},
   "outputs": [
    {
     "name": "stdout",
     "output_type": "stream",
     "text": [
      "The following result for the arithmetic operation is 7.728813559322034\n"
     ]
    }
   ],
   "source": [
    "print(f\"The following result for the arithmetic operation is {ans}\")\n"
   ]
  },
  {
   "cell_type": "code",
   "execution_count": null,
   "id": "eb35a697",
   "metadata": {},
   "outputs": [],
   "source": []
  },
  {
   "cell_type": "code",
   "execution_count": null,
   "id": "19244266",
   "metadata": {},
   "outputs": [],
   "source": []
  },
  {
   "cell_type": "code",
   "execution_count": null,
   "id": "ff527a49",
   "metadata": {},
   "outputs": [],
   "source": []
  },
  {
   "cell_type": "code",
   "execution_count": null,
   "id": "d8916460",
   "metadata": {},
   "outputs": [],
   "source": []
  }
 ],
 "metadata": {
  "kernelspec": {
   "display_name": "Python 3",
   "language": "python",
   "name": "python3"
  },
  "language_info": {
   "codemirror_mode": {
    "name": "ipython",
    "version": 3
   },
   "file_extension": ".py",
   "mimetype": "text/x-python",
   "name": "python",
   "nbconvert_exporter": "python",
   "pygments_lexer": "ipython3",
   "version": "3.9.5"
  }
 },
 "nbformat": 4,
 "nbformat_minor": 5
}
