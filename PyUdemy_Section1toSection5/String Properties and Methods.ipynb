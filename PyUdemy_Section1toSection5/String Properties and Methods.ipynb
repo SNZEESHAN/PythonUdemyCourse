{
 "cells": [
  {
   "cell_type": "markdown",
   "id": "7c55724f",
   "metadata": {},
   "source": [
    "# Immutability"
   ]
  },
  {
   "cell_type": "code",
   "execution_count": 7,
   "id": "3fe0ccc9",
   "metadata": {},
   "outputs": [
    {
     "data": {
      "text/plain": [
       "'Zeeshan Shariff'"
      ]
     },
     "execution_count": 7,
     "metadata": {},
     "output_type": "execute_result"
    }
   ],
   "source": [
    "name = \"Zeeshan \"\n",
    "last_name = \"Shariff\"\n",
    "\n",
    "name + last_name"
   ]
  },
  {
   "cell_type": "code",
   "execution_count": 8,
   "id": "53318ba9",
   "metadata": {},
   "outputs": [
    {
     "name": "stdout",
     "output_type": "stream",
     "text": [
      "Zeeshan Shariff\n"
     ]
    }
   ],
   "source": [
    "print(name + last_name)"
   ]
  },
  {
   "cell_type": "code",
   "execution_count": 9,
   "id": "fdd9f178",
   "metadata": {},
   "outputs": [
    {
     "data": {
      "text/plain": [
       "'eeshan '"
      ]
     },
     "execution_count": 9,
     "metadata": {},
     "output_type": "execute_result"
    }
   ],
   "source": [
    "name[1:]"
   ]
  },
  {
   "cell_type": "code",
   "execution_count": 13,
   "id": "c3c07e52",
   "metadata": {},
   "outputs": [
    {
     "data": {
      "text/plain": [
       "'Sreeshanth'"
      ]
     },
     "execution_count": 13,
     "metadata": {},
     "output_type": "execute_result"
    }
   ],
   "source": [
    "'Sr'+name[1:-1]+'th'"
   ]
  },
  {
   "cell_type": "code",
   "execution_count": 16,
   "id": "f763df3b",
   "metadata": {},
   "outputs": [
    {
     "data": {
      "text/plain": [
       "'Sreeshanth Sreeshanth Sreeshanth Sreeshanth Sreeshanth Sreeshanth Sreeshanth Sreeshanth Sreeshanth Sreeshanth Sreeshanth Sreeshanth Sreeshanth Sreeshanth '"
      ]
     },
     "execution_count": 16,
     "metadata": {},
     "output_type": "execute_result"
    }
   ],
   "source": [
    "x = 'Sreeshanth ' \n",
    "\n",
    "x*14"
   ]
  },
  {
   "cell_type": "code",
   "execution_count": 20,
   "id": "09c3f4cf",
   "metadata": {},
   "outputs": [
    {
     "data": {
      "text/plain": [
       "'3y'"
      ]
     },
     "execution_count": 20,
     "metadata": {},
     "output_type": "execute_result"
    }
   ],
   "source": [
    "'3'+ 'y' "
   ]
  },
  {
   "cell_type": "markdown",
   "id": "a1073c5c",
   "metadata": {},
   "source": [
    "So far, we have tried concatenation. This is done by using strings, slicing and using arithmentic operators"
   ]
  },
  {
   "cell_type": "code",
   "execution_count": 23,
   "id": "b2ea44bc",
   "metadata": {},
   "outputs": [],
   "source": [
    "py_message = \"Hello World\""
   ]
  },
  {
   "cell_type": "code",
   "execution_count": 27,
   "id": "3f013e41",
   "metadata": {},
   "outputs": [
    {
     "data": {
      "text/plain": [
       "['Hello', 'World']"
      ]
     },
     "execution_count": 27,
     "metadata": {},
     "output_type": "execute_result"
    }
   ],
   "source": [
    "py_message.split()"
   ]
  },
  {
   "cell_type": "code",
   "execution_count": 29,
   "id": "d98983ec",
   "metadata": {},
   "outputs": [
    {
     "data": {
      "text/plain": [
       "['Hell', ' W', 'rld']"
      ]
     },
     "execution_count": 29,
     "metadata": {},
     "output_type": "execute_result"
    }
   ],
   "source": [
    "py_message.split('o')"
   ]
  },
  {
   "cell_type": "code",
   "execution_count": 30,
   "id": "d98243b7",
   "metadata": {},
   "outputs": [
    {
     "name": "stdout",
     "output_type": "stream",
     "text": [
      "Hello World\n"
     ]
    }
   ],
   "source": [
    "print(py_message)"
   ]
  },
  {
   "cell_type": "code",
   "execution_count": null,
   "id": "370769d9",
   "metadata": {},
   "outputs": [],
   "source": []
  }
 ],
 "metadata": {
  "kernelspec": {
   "display_name": "Python 3",
   "language": "python",
   "name": "python3"
  },
  "language_info": {
   "codemirror_mode": {
    "name": "ipython",
    "version": 3
   },
   "file_extension": ".py",
   "mimetype": "text/x-python",
   "name": "python",
   "nbconvert_exporter": "python",
   "pygments_lexer": "ipython3",
   "version": "3.9.5"
  }
 },
 "nbformat": 4,
 "nbformat_minor": 5
}
