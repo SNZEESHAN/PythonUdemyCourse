{
 "cells": [
  {
   "cell_type": "code",
   "execution_count": 1,
   "id": "db2803f5",
   "metadata": {},
   "outputs": [
    {
     "data": {
      "text/plain": [
       "{'key1': 'value1', 'key2': 'value2'}"
      ]
     },
     "execution_count": 1,
     "metadata": {},
     "output_type": "execute_result"
    }
   ],
   "source": [
    "my_dict = {'key1':'value1', 'key2':'value2'}\n",
    "my_dict"
   ]
  },
  {
   "cell_type": "code",
   "execution_count": 3,
   "id": "d55f7796",
   "metadata": {},
   "outputs": [
    {
     "data": {
      "text/plain": [
       "'value1'"
      ]
     },
     "execution_count": 3,
     "metadata": {},
     "output_type": "execute_result"
    }
   ],
   "source": [
    " my_dict['key1']"
   ]
  },
  {
   "cell_type": "code",
   "execution_count": 8,
   "id": "ba9efca9",
   "metadata": {},
   "outputs": [
    {
     "name": "stdout",
     "output_type": "stream",
     "text": [
      "{'apple': 2.5, 'orange': 3.99, 'mango': 2}\n"
     ]
    }
   ],
   "source": [
    "prices_lookup = {'apple':2.5, 'orange':3.99, 'mango':2} \n",
    "print(prices_lookup)"
   ]
  },
  {
   "cell_type": "code",
   "execution_count": 7,
   "id": "d4754f37",
   "metadata": {},
   "outputs": [
    {
     "data": {
      "text/plain": [
       "2.5"
      ]
     },
     "execution_count": 7,
     "metadata": {},
     "output_type": "execute_result"
    }
   ],
   "source": [
    "prices_lookup['apple']"
   ]
  },
  {
   "cell_type": "code",
   "execution_count": 9,
   "id": "c9732a21",
   "metadata": {},
   "outputs": [],
   "source": [
    "d = {'k1':133, 'k2':[0,1,2], 'k3':{'insidekey':100}}"
   ]
  },
  {
   "cell_type": "code",
   "execution_count": 11,
   "id": "a0c24759",
   "metadata": {},
   "outputs": [
    {
     "data": {
      "text/plain": [
       "[0, 1, 2]"
      ]
     },
     "execution_count": 11,
     "metadata": {},
     "output_type": "execute_result"
    }
   ],
   "source": [
    "d['k2']"
   ]
  },
  {
   "cell_type": "code",
   "execution_count": 12,
   "id": "6a402200",
   "metadata": {},
   "outputs": [
    {
     "data": {
      "text/plain": [
       "100"
      ]
     },
     "execution_count": 12,
     "metadata": {},
     "output_type": "execute_result"
    }
   ],
   "source": [
    "d['k3']['insidekey']"
   ]
  },
  {
   "cell_type": "markdown",
   "id": "4def293c",
   "metadata": {},
   "source": [
    "In the above syntaxes, we are nesting the dictionary \"d\" with list, number and dictionary within itself. \n",
    "In In[11], key 2(k2) is in the form of list. in order to get the number 2 from that we use the following syntax. "
   ]
  },
  {
   "cell_type": "code",
   "execution_count": 13,
   "id": "43278549",
   "metadata": {},
   "outputs": [
    {
     "data": {
      "text/plain": [
       "2"
      ]
     },
     "execution_count": 13,
     "metadata": {},
     "output_type": "execute_result"
    }
   ],
   "source": [
    "d['k2'][2]"
   ]
  },
  {
   "cell_type": "markdown",
   "id": "40c77d3a",
   "metadata": {},
   "source": [
    "In the same way, the dictionary with itself can also be accessed using respective keywords like done in \" In[12] \""
   ]
  },
  {
   "cell_type": "markdown",
   "id": "d83c9b91",
   "metadata": {},
   "source": [
    "In the following input cells, we create a new dictionary with some keywords and values. Use strings functions to modify it. "
   ]
  },
  {
   "cell_type": "code",
   "execution_count": 25,
   "id": "2b79f725",
   "metadata": {},
   "outputs": [],
   "source": [
    "dict1 = {'k1':'Zeeshan', 'k2':'Joe', 'k3':'Gino', 'k4': ['ab', 'bc', 'cd', 'de', 'ef']}"
   ]
  },
  {
   "cell_type": "code",
   "execution_count": 26,
   "id": "aa812fa1",
   "metadata": {},
   "outputs": [
    {
     "data": {
      "text/plain": [
       "{'k1': 'Zeeshan',\n",
       " 'k2': 'Joe',\n",
       " 'k3': 'Gino',\n",
       " 'k4': ['ab', 'bc', 'cd', 'de', 'ef']}"
      ]
     },
     "execution_count": 26,
     "metadata": {},
     "output_type": "execute_result"
    }
   ],
   "source": [
    "dict1"
   ]
  },
  {
   "cell_type": "code",
   "execution_count": 33,
   "id": "5842656e",
   "metadata": {},
   "outputs": [
    {
     "name": "stdout",
     "output_type": "stream",
     "text": [
      "CD\n"
     ]
    }
   ],
   "source": [
    "print(dict1['k4'][2].upper())\n",
    "\n",
    "#Using string function \" upper() \", we changed the name to all caps.\n"
   ]
  },
  {
   "cell_type": "code",
   "execution_count": 34,
   "id": "da6c5423",
   "metadata": {},
   "outputs": [
    {
     "data": {
      "text/plain": [
       "dict_keys(['k1', 'k2', 'k3', 'k4'])"
      ]
     },
     "execution_count": 34,
     "metadata": {},
     "output_type": "execute_result"
    }
   ],
   "source": [
    "dict1.keys()"
   ]
  },
  {
   "cell_type": "code",
   "execution_count": 35,
   "id": "57cf68e3",
   "metadata": {},
   "outputs": [
    {
     "data": {
      "text/plain": [
       "dict_values(['Zeeshan', 'Joe', 'Gino', ['ab', 'bc', 'cd', 'de', 'ef']])"
      ]
     },
     "execution_count": 35,
     "metadata": {},
     "output_type": "execute_result"
    }
   ],
   "source": [
    "dict1.values()"
   ]
  },
  {
   "cell_type": "code",
   "execution_count": null,
   "id": "038d50f0",
   "metadata": {},
   "outputs": [],
   "source": []
  }
 ],
 "metadata": {
  "kernelspec": {
   "display_name": "Python 3",
   "language": "python",
   "name": "python3"
  },
  "language_info": {
   "codemirror_mode": {
    "name": "ipython",
    "version": 3
   },
   "file_extension": ".py",
   "mimetype": "text/x-python",
   "name": "python",
   "nbconvert_exporter": "python",
   "pygments_lexer": "ipython3",
   "version": "3.9.5"
  }
 },
 "nbformat": 4,
 "nbformat_minor": 5
}
